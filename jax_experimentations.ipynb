{
  "nbformat": 4,
  "nbformat_minor": 0,
  "metadata": {
    "colab": {
      "provenance": []
    },
    "kernelspec": {
      "name": "python3",
      "display_name": "Python 3"
    },
    "language_info": {
      "name": "python"
    }
  },
  "cells": [
    {
      "cell_type": "code",
      "execution_count": 1,
      "metadata": {
        "colab": {
          "base_uri": "https://localhost:8080/"
        },
        "id": "WDwG2GNF70ae",
        "outputId": "577aeee2-12c0-45d4-e91c-17f473e45cfe"
      },
      "outputs": [
        {
          "output_type": "stream",
          "name": "stdout",
          "text": [
            "Requirement already satisfied: jax in /usr/local/lib/python3.11/dist-packages (0.5.2)\n",
            "Collecting jax\n",
            "  Downloading jax-0.6.2-py3-none-any.whl.metadata (13 kB)\n",
            "Collecting jaxlib<=0.6.2,>=0.6.2 (from jax)\n",
            "  Downloading jaxlib-0.6.2-cp311-cp311-manylinux2014_x86_64.whl.metadata (1.3 kB)\n",
            "Collecting ml_dtypes>=0.5.0 (from jax)\n",
            "  Downloading ml_dtypes-0.5.1-cp311-cp311-manylinux_2_17_x86_64.manylinux2014_x86_64.whl.metadata (21 kB)\n",
            "Requirement already satisfied: numpy>=1.26 in /usr/local/lib/python3.11/dist-packages (from jax) (2.0.2)\n",
            "Requirement already satisfied: opt_einsum in /usr/local/lib/python3.11/dist-packages (from jax) (3.4.0)\n",
            "Requirement already satisfied: scipy>=1.12 in /usr/local/lib/python3.11/dist-packages (from jax) (1.15.3)\n",
            "Downloading jax-0.6.2-py3-none-any.whl (2.7 MB)\n",
            "\u001b[2K   \u001b[90m━━━━━━━━━━━━━━━━━━━━━━━━━━━━━━━━━━━━━━━━\u001b[0m \u001b[32m2.7/2.7 MB\u001b[0m \u001b[31m36.5 MB/s\u001b[0m eta \u001b[36m0:00:00\u001b[0m\n",
            "\u001b[?25hDownloading jaxlib-0.6.2-cp311-cp311-manylinux2014_x86_64.whl (89.9 MB)\n",
            "\u001b[2K   \u001b[90m━━━━━━━━━━━━━━━━━━━━━━━━━━━━━━━━━━━━━━━━\u001b[0m \u001b[32m89.9/89.9 MB\u001b[0m \u001b[31m9.7 MB/s\u001b[0m eta \u001b[36m0:00:00\u001b[0m\n",
            "\u001b[?25hDownloading ml_dtypes-0.5.1-cp311-cp311-manylinux_2_17_x86_64.manylinux2014_x86_64.whl (4.7 MB)\n",
            "\u001b[2K   \u001b[90m━━━━━━━━━━━━━━━━━━━━━━━━━━━━━━━━━━━━━━━━\u001b[0m \u001b[32m4.7/4.7 MB\u001b[0m \u001b[31m60.3 MB/s\u001b[0m eta \u001b[36m0:00:00\u001b[0m\n",
            "\u001b[?25hInstalling collected packages: ml_dtypes, jaxlib, jax\n",
            "  Attempting uninstall: ml_dtypes\n",
            "    Found existing installation: ml-dtypes 0.4.1\n",
            "    Uninstalling ml-dtypes-0.4.1:\n",
            "      Successfully uninstalled ml-dtypes-0.4.1\n",
            "  Attempting uninstall: jaxlib\n",
            "    Found existing installation: jaxlib 0.5.1\n",
            "    Uninstalling jaxlib-0.5.1:\n",
            "      Successfully uninstalled jaxlib-0.5.1\n",
            "  Attempting uninstall: jax\n",
            "    Found existing installation: jax 0.5.2\n",
            "    Uninstalling jax-0.5.2:\n",
            "      Successfully uninstalled jax-0.5.2\n",
            "\u001b[31mERROR: pip's dependency resolver does not currently take into account all the packages that are installed. This behaviour is the source of the following dependency conflicts.\n",
            "tensorflow 2.18.0 requires ml-dtypes<0.5.0,>=0.4.0, but you have ml-dtypes 0.5.1 which is incompatible.\u001b[0m\u001b[31m\n",
            "\u001b[0mSuccessfully installed jax-0.6.2 jaxlib-0.6.2 ml_dtypes-0.5.1\n"
          ]
        }
      ],
      "source": [
        "!pip3 install -U jax"
      ]
    },
    {
      "cell_type": "code",
      "source": [
        "import torch"
      ],
      "metadata": {
        "id": "bcB9ju928OPp"
      },
      "execution_count": 7,
      "outputs": []
    },
    {
      "cell_type": "markdown",
      "source": [
        "## Basic array operations with jax.numpy\n",
        "\n",
        "### JAX's jax.numpy is nearly identical to NumPy's but runs on accelerators"
      ],
      "metadata": {
        "id": "_Zy6N46U-7fD"
      }
    },
    {
      "cell_type": "code",
      "source": [
        "import jax.numpy as jnp\n",
        "\n",
        "# creating arrays\n",
        "x = jnp.array([1.0, 2.0, 3.0])\n",
        "y = jnp.array([4.0, 5.0, 6.0])\n",
        "\n",
        "# basic operations\n",
        "z = x + y\n",
        "print(z)"
      ],
      "metadata": {
        "colab": {
          "base_uri": "https://localhost:8080/"
        },
        "id": "t5w3ios_8wnv",
        "outputId": "aa43ff32-1815-4b17-b016-123f23b324ca"
      },
      "execution_count": 6,
      "outputs": [
        {
          "output_type": "stream",
          "name": "stdout",
          "text": [
            "[5. 7. 9.]\n"
          ]
        }
      ]
    },
    {
      "cell_type": "markdown",
      "source": [
        "## Automatic Differentiation with jax.grad\n",
        "### JAX can compute gradients of Python functions"
      ],
      "metadata": {
        "id": "CG-y2jbf98yX"
      }
    },
    {
      "cell_type": "code",
      "source": [
        "from jax import grad\n",
        "\n",
        "# defining a simple function: f(x) = x^2 + 2x + 1\n",
        "\n",
        "def f(x):\n",
        "  return x**2 + 2*x + 1\n",
        "\n",
        "# compute the derivative: f(x) = 2x + 2\n",
        "df_dx = grad(f)\n",
        "print(df_dx(3.0)) # 2 * 3 + 2 = 8.0"
      ],
      "metadata": {
        "colab": {
          "base_uri": "https://localhost:8080/"
        },
        "id": "pPwbwOdk9cxz",
        "outputId": "324b9d72-566d-44ab-e475-82678eee8d81"
      },
      "execution_count": 10,
      "outputs": [
        {
          "output_type": "stream",
          "name": "stdout",
          "text": [
            "8.0\n"
          ]
        }
      ]
    },
    {
      "cell_type": "markdown",
      "source": [
        "## JIT Complilation with jax.jit\n",
        "### Speed up functions by compiling them"
      ],
      "metadata": {
        "id": "KAqEUafH-pvs"
      }
    },
    {
      "cell_type": "code",
      "source": [
        "from jax import jit\n",
        "\n",
        "# JIT-compile the function\n",
        "f_jit = jit(f)\n",
        "\n",
        "print(f_jit(3.0))"
      ],
      "metadata": {
        "colab": {
          "base_uri": "https://localhost:8080/"
        },
        "id": "5si-6E2i9cvv",
        "outputId": "d6c6a7b2-f622-45b2-cded-5bf372e639a8"
      },
      "execution_count": 11,
      "outputs": [
        {
          "output_type": "stream",
          "name": "stdout",
          "text": [
            "16.0\n"
          ]
        }
      ]
    },
    {
      "cell_type": "markdown",
      "source": [
        "## Vectorization with jax.vmap\n",
        "### Apply a function over array elements without loops\n"
      ],
      "metadata": {
        "id": "mk-u7oPG_WqO"
      }
    },
    {
      "cell_type": "code",
      "source": [
        "from jax import vmap\n",
        "\n",
        "x = jnp.array([1.0, 2.0, 3.0])\n",
        "f_vectorized = vmap(f)\n",
        "print(f_vectorized(x))\n"
      ],
      "metadata": {
        "colab": {
          "base_uri": "https://localhost:8080/"
        },
        "id": "lofa188t_Wat",
        "outputId": "aa05f436-cc6c-4365-fc97-37d55a696feb"
      },
      "execution_count": 12,
      "outputs": [
        {
          "output_type": "stream",
          "name": "stdout",
          "text": [
            "[ 4.  9. 16.]\n"
          ]
        }
      ]
    },
    {
      "cell_type": "markdown",
      "source": [
        "## Random Numbers\n",
        "### JAX requires explicit random numbers seeds for reproducibility"
      ],
      "metadata": {
        "id": "UoHw0PEI_rK_"
      }
    },
    {
      "cell_type": "code",
      "source": [
        "from jax import random\n",
        "\n",
        "# generating a random key\n",
        "key = random.PRNGKey(42)\n",
        "\n",
        "# generating random numbers\n",
        "x = random.normal(key, (3,))\n",
        "print(x)"
      ],
      "metadata": {
        "colab": {
          "base_uri": "https://localhost:8080/"
        },
        "id": "SILUZq8v9ctj",
        "outputId": "a8f2dd75-f7c5-4c1a-ce86-b00ed5c38217"
      },
      "execution_count": 13,
      "outputs": [
        {
          "output_type": "stream",
          "name": "stdout",
          "text": [
            "[-0.02830462  0.46713185  0.29570296]\n"
          ]
        }
      ]
    },
    {
      "cell_type": "code",
      "source": [],
      "metadata": {
        "id": "5uC6Cvcm_qF1"
      },
      "execution_count": null,
      "outputs": []
    },
    {
      "cell_type": "markdown",
      "source": [
        "## Linear Regressions with Gradient Descent\n"
      ],
      "metadata": {
        "id": "R8XAj8eXAKhU"
      }
    },
    {
      "cell_type": "code",
      "source": [
        "import jax.numpy as jnp\n",
        "from jax import grad, jit, random\n",
        "\n",
        "# Generate synthetic data\n",
        "key = random.PRNGKey(0)\n",
        "X = random.normal(key, (100, 1))\n",
        "y = 2 * X[:, 0] + 1 + 0.1 * random.normal(key, (100,))\n",
        "\n",
        "# Define model and loss\n",
        "def model(params, X):\n",
        "    return params[0] * X + params[1]  # Linear model: slope * X + intercept\n",
        "\n",
        "def loss(params, X, y):\n",
        "    predictions = model(params, X)\n",
        "    return jnp.mean((predictions - y) ** 2)\n",
        "\n",
        "# Gradient descent\n",
        "@jit\n",
        "def update(params, X, y, lr=0.2):  # Increased learning rate\n",
        "    gradients = grad(loss)(params, X, y)\n",
        "    return params - lr * gradients\n",
        "\n",
        "# Initialize and train\n",
        "params = jnp.array([0.0, 0.0])  # [slope, intercept]\n",
        "for _ in range(1000):\n",
        "    params = update(params, X, y)\n",
        "\n",
        "print(f\"Learned params: slope={params[0]:.2f}, intercept={params[1]:.2f}\")"
      ],
      "metadata": {
        "colab": {
          "base_uri": "https://localhost:8080/"
        },
        "id": "q3EZR3fE9crs",
        "outputId": "1c5882ba-033e-458d-cc4f-813e5dac79ee"
      },
      "execution_count": 22,
      "outputs": [
        {
          "output_type": "stream",
          "name": "stdout",
          "text": [
            "Learned params: slope=-0.00, intercept=1.23\n"
          ]
        }
      ]
    },
    {
      "cell_type": "code",
      "source": [
        "print(\"X sample:\", X[:5], \"y sample:\", y[:5])"
      ],
      "metadata": {
        "colab": {
          "base_uri": "https://localhost:8080/"
        },
        "id": "vOW5-YFD9cpe",
        "outputId": "adbc3689-6cd9-4c08-a46f-d546e3c79014"
      },
      "execution_count": 21,
      "outputs": [
        {
          "output_type": "stream",
          "name": "stdout",
          "text": [
            "X sample: [[ 1.6226422 ]\n",
            " [ 2.0252647 ]\n",
            " [-0.43359444]\n",
            " [-0.07861735]\n",
            " [ 0.1760909 ]] y sample: [4.4075484  5.253056   0.08945169 0.8349036  1.3697909 ]\n"
          ]
        }
      ]
    },
    {
      "cell_type": "code",
      "source": [],
      "metadata": {
        "id": "B-KRAHXT9cnc"
      },
      "execution_count": null,
      "outputs": []
    },
    {
      "cell_type": "code",
      "source": [],
      "metadata": {
        "id": "Ndsc3Sgj9clc"
      },
      "execution_count": null,
      "outputs": []
    },
    {
      "cell_type": "code",
      "source": [],
      "metadata": {
        "id": "EJn-r1Rh9cjZ"
      },
      "execution_count": null,
      "outputs": []
    },
    {
      "cell_type": "code",
      "source": [],
      "metadata": {
        "id": "ZWCdPvMq9chO"
      },
      "execution_count": null,
      "outputs": []
    }
  ]
}
